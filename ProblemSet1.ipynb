{
 "cells": [
  {
   "cell_type": "markdown",
   "id": "b6a38a06",
   "metadata": {},
   "source": [
    "# Problem Set 1                                                      Jayalakshmi Rajan 200517442\n"
   ]
  },
  {
   "cell_type": "markdown",
   "id": "705a3523",
   "metadata": {},
   "source": [
    "Question 1: "
   ]
  },
  {
   "cell_type": "code",
   "execution_count": 6,
   "id": "dbf2fe03",
   "metadata": {},
   "outputs": [
    {
     "data": {
      "text/plain": [
       "int"
      ]
     },
     "execution_count": 6,
     "metadata": {},
     "output_type": "execute_result"
    }
   ],
   "source": [
    "type(5)"
   ]
  },
  {
   "cell_type": "code",
   "execution_count": 7,
   "id": "6ab4e596",
   "metadata": {},
   "outputs": [
    {
     "data": {
      "text/plain": [
       "float"
      ]
     },
     "execution_count": 7,
     "metadata": {},
     "output_type": "execute_result"
    }
   ],
   "source": [
    "type(5.0)"
   ]
  },
  {
   "cell_type": "code",
   "execution_count": 8,
   "id": "d69ee289",
   "metadata": {},
   "outputs": [
    {
     "data": {
      "text/plain": [
       "bool"
      ]
     },
     "execution_count": 8,
     "metadata": {},
     "output_type": "execute_result"
    }
   ],
   "source": [
    "type(5>1)"
   ]
  },
  {
   "cell_type": "code",
   "execution_count": null,
   "id": "fa900f56",
   "metadata": {},
   "outputs": [],
   "source": [
    "type('5')"
   ]
  },
  {
   "cell_type": "code",
   "execution_count": null,
   "id": "093f2086",
   "metadata": {},
   "outputs": [],
   "source": [
    "type(5*2)"
   ]
  },
  {
   "cell_type": "code",
   "execution_count": 9,
   "id": "8426a9da",
   "metadata": {},
   "outputs": [
    {
     "data": {
      "text/plain": [
       "str"
      ]
     },
     "execution_count": 9,
     "metadata": {},
     "output_type": "execute_result"
    }
   ],
   "source": [
    "type('5'*2)"
   ]
  },
  {
   "cell_type": "code",
   "execution_count": 10,
   "id": "952a7171",
   "metadata": {},
   "outputs": [
    {
     "data": {
      "text/plain": [
       "str"
      ]
     },
     "execution_count": 10,
     "metadata": {},
     "output_type": "execute_result"
    }
   ],
   "source": [
    "type('5'+'2')"
   ]
  },
  {
   "cell_type": "code",
   "execution_count": 14,
   "id": "ba2184cc",
   "metadata": {},
   "outputs": [
    {
     "data": {
      "text/plain": [
       "float"
      ]
     },
     "execution_count": 14,
     "metadata": {},
     "output_type": "execute_result"
    }
   ],
   "source": [
    "type(5/2)"
   ]
  },
  {
   "cell_type": "code",
   "execution_count": null,
   "id": "1eb87304",
   "metadata": {},
   "outputs": [],
   "source": [
    "type(5%2)"
   ]
  },
  {
   "cell_type": "code",
   "execution_count": 11,
   "id": "0725ccc7",
   "metadata": {},
   "outputs": [
    {
     "data": {
      "text/plain": [
       "set"
      ]
     },
     "execution_count": 11,
     "metadata": {},
     "output_type": "execute_result"
    }
   ],
   "source": [
    "type({5,2,1})"
   ]
  },
  {
   "cell_type": "code",
   "execution_count": null,
   "id": "1c95f3b1",
   "metadata": {},
   "outputs": [],
   "source": [
    "type(5==3)"
   ]
  },
  {
   "cell_type": "code",
   "execution_count": 12,
   "id": "c732c483",
   "metadata": {},
   "outputs": [
    {
     "data": {
      "text/plain": [
       "float"
      ]
     },
     "execution_count": 12,
     "metadata": {},
     "output_type": "execute_result"
    }
   ],
   "source": [
    "type(3.14)"
   ]
  },
  {
   "cell_type": "markdown",
   "id": "412fdb4e",
   "metadata": {},
   "source": [
    "Question 2:"
   ]
  },
  {
   "cell_type": "code",
   "execution_count": 3,
   "id": "aca4ffed",
   "metadata": {
    "scrolled": false
   },
   "outputs": [
    {
     "name": "stdout",
     "output_type": "stream",
     "text": [
      "Supercalifragilisticexpialidocious contain ice as a substring\n"
     ]
    }
   ],
   "source": [
    "len('Supercalifragilisticexpialidocious')"
   ]
  },
  {
   "cell_type": "code",
   "execution_count": 2,
   "id": "293e27b2",
   "metadata": {},
   "outputs": [
    {
     "name": "stdout",
     "output_type": "stream",
     "text": [
      "18\n"
     ]
    }
   ],
   "source": [
    "word = 'Supercalifragilisticexpialidocious'\n",
    "if 'ice' in word:\n",
    "    print('Supercalifragilisticexpialidocious contain ice as a substring')"
   ]
  },
  {
   "cell_type": "code",
   "execution_count": 1,
   "id": "7c7d52bf",
   "metadata": {},
   "outputs": [
    {
     "name": "stdout",
     "output_type": "stream",
     "text": [
      "Supercalifragilisticexpialidocious and Bababadalgharaghtakamminarronnkonn are the longest\n"
     ]
    }
   ],
   "source": [
    "len1 = len('Supercalifragilisticexpialidocious')\n",
    "len2 = len('Honorificabilitudinitatibus')\n",
    "len3 = len('Bababadalgharaghtakamminarronnkonn')\n",
    "if len1>len2:\n",
    "    if len1==len3:\n",
    "        print('Supercalifragilisticexpialidocious and Bababadalgharaghtakamminarronnkonn are the longest') \n",
    "    elif len1>len3:\n",
    "        print('Supercalifragilisticexpialidocious is the longest')\n",
    "    else:\n",
    "        print('Bababadalgharaghtakamminarronnkonn is the longest')\n",
    "else:\n",
    "    print('Honorificabilitudinitatibus is the longest')\n"
   ]
  },
  {
   "cell_type": "code",
   "execution_count": null,
   "id": "1c04b0ff",
   "metadata": {},
   "outputs": [],
   "source": [
    "composers = ['Berlioz', 'Borodin', 'Brian', 'Bartok', 'Bellini', 'Buxtehude', 'Bernstein']\n",
    "sort= sorted(composers)\n",
    "print('composer that comes first on the list is',sort[0])\n",
    "print('composer that comes last on the list is',sort[-1])"
   ]
  },
  {
   "cell_type": "markdown",
   "id": "f18737cb",
   "metadata": {},
   "source": [
    "Question 3:"
   ]
  },
  {
   "cell_type": "code",
   "execution_count": 38,
   "id": "cc178ef5",
   "metadata": {},
   "outputs": [],
   "source": [
    "import math\n",
    "def triangleArea(a,b,c):\n",
    "    s = (a+b+c)/2\n",
    "    area = math.sqrt(s*(s-a)*(s-b)*(s-c))\n",
    "    return area"
   ]
  },
  {
   "cell_type": "code",
   "execution_count": 39,
   "id": "8bc601d2",
   "metadata": {},
   "outputs": [
    {
     "data": {
      "text/plain": [
       "1.7320508075688772"
      ]
     },
     "execution_count": 39,
     "metadata": {},
     "output_type": "execute_result"
    }
   ],
   "source": [
    "triangleArea(2,2,2)"
   ]
  },
  {
   "cell_type": "markdown",
   "id": "76b1db69",
   "metadata": {},
   "source": [
    "Question 4:"
   ]
  },
  {
   "cell_type": "code",
   "execution_count": 12,
   "id": "3a7be2a8",
   "metadata": {},
   "outputs": [
    {
     "name": "stdout",
     "output_type": "stream",
     "text": [
      "enter the number of elements3\n",
      "enter the elements1\n",
      "enter the elements2\n",
      "enter the elements3\n",
      "even elements  [2]\n",
      "odd elements  [1, 3]\n"
     ]
    }
   ],
   "source": [
    "n= int(input('enter the number of elements'))\n",
    "numArray=[]\n",
    "oddArray=[]\n",
    "evenArray=[]\n",
    "for i in range(n):\n",
    "    val=int(input('enter the elements'))\n",
    "    numArray.append(val)\n",
    "for j in range(n):\n",
    "    if (numArray[j]%2==0):\n",
    "        evenArray.append(numArray[j])\n",
    "    else:\n",
    "        oddArray.append(numArray[j])\n",
    "print('The even elements are ',evenArray)\n",
    "print('The odd elements are ',oddArray)\n"
   ]
  },
  {
   "cell_type": "markdown",
   "id": "82467407",
   "metadata": {},
   "source": [
    "Question 5:"
   ]
  },
  {
   "cell_type": "code",
   "execution_count": 120,
   "id": "4d7f106e",
   "metadata": {},
   "outputs": [],
   "source": [
    "def inside(x,y,x1,y1,x2,y2):\n",
    "    if x1<=x<=x2 and y1<=y<=y2:\n",
    "        return True\n",
    "    else:\n",
    "        return False\n",
    "\n",
    "if inside is True:\n",
    "    def inside1(x,y,x3,y3,x4,y4):\n",
    "        x3=float(x3)\n",
    "        y3=float(y3)\n",
    "        x4=float(x4)\n",
    "        y4=float(y4)\n",
    "        if x3<=x<=x4 and y3<=y<=y4:\n",
    "            return\n",
    "            print('point is inside')\n",
    "\n",
    "        else:\n",
    "            return\n",
    "            print('point is outside')\n",
    "        "
   ]
  },
  {
   "cell_type": "code",
   "execution_count": 121,
   "id": "f7d42170",
   "metadata": {},
   "outputs": [
    {
     "data": {
      "text/plain": [
       "True"
      ]
     },
     "execution_count": 121,
     "metadata": {},
     "output_type": "execute_result"
    }
   ],
   "source": [
    "inside(1,1,0,0,2,3)"
   ]
  },
  {
   "cell_type": "code",
   "execution_count": 122,
   "id": "5e57dbd5",
   "metadata": {},
   "outputs": [],
   "source": [
    "inside1(1,1,0.3,0.5,1.1,1.7)"
   ]
  },
  {
   "cell_type": "markdown",
   "id": "a9ad423a",
   "metadata": {},
   "source": [
    "Question 6:"
   ]
  },
  {
   "cell_type": "code",
   "execution_count": 101,
   "id": "f23752e4",
   "metadata": {},
   "outputs": [
    {
     "name": "stdout",
     "output_type": "stream",
     "text": [
      "paris\n",
      "arispay\n"
     ]
    }
   ],
   "source": [
    "def vowel(v):\n",
    "    return (v == 'A' or v == 'E' or v == 'I' or v == 'O' or v == 'U' or v == 'a' or v == 'e' or v == 'i' or v == 'o' or\n",
    "            v == 'u')\n",
    " \n",
    "def pig(p):\n",
    "    length = len(p)\n",
    "    index = -1\n",
    "    for i in range(length):\n",
    "        if (vowel(p[i])):\n",
    "            index = i\n",
    "            break\n",
    "    if (index == -1):\n",
    "        return \"-1\"\n",
    "    return p[index:] + p[0:index] + \"ay\"\n",
    " \n",
    "str = pig(input())\n",
    "if (str == \"-1\"):\n",
    "    print(\"No vowels found. Pig Latin is not possible\")\n",
    "else:\n",
    "    print(str)"
   ]
  },
  {
   "cell_type": "markdown",
   "id": "3dc518b0",
   "metadata": {},
   "source": [
    "Question 7:"
   ]
  },
  {
   "cell_type": "code",
   "execution_count": 265,
   "id": "2f36fee9",
   "metadata": {},
   "outputs": [],
   "source": [
    "def bldcount():\n",
    "    infile = open('bloodtype1.txt')\n",
    "    x=infile.read()\n",
    "    y=x.split()\n",
    "    a=0\n",
    "    b=0\n",
    "    ab=0\n",
    "    o=0\n",
    "    for i in y:\n",
    "        if i == 'A':\n",
    "            a+=1\n",
    "        elif i == 'B':\n",
    "            b+=1\n",
    "        elif i =='AB':\n",
    "            ab+=1\n",
    "        elif i =='O':\n",
    "            o+=1\n",
    "    \n",
    "    print('there are',a,'patients with blood group A')\n",
    "    print('there are',b,'patients with blood group B')\n",
    "    print('there are',ab,'patients with blood group AB')\n",
    "    print('there are',o,'patients with blood group O')\n",
    "    print('there are no patients with blood group OO')\n",
    "\n"
   ]
  },
  {
   "cell_type": "code",
   "execution_count": 266,
   "id": "2de57c29",
   "metadata": {},
   "outputs": [
    {
     "name": "stdout",
     "output_type": "stream",
     "text": [
      "there are 15 patients with blood group A\n",
      "there are 1 patients with blood group B\n",
      "there are 12 patients with blood group AB\n",
      "there are 14 patients with blood group O\n",
      "there are no patients with blood group OO\n"
     ]
    }
   ],
   "source": [
    "bldcount()"
   ]
  },
  {
   "cell_type": "markdown",
   "id": "5348e8c4",
   "metadata": {},
   "source": [
    "Question 8:"
   ]
  },
  {
   "cell_type": "code",
   "execution_count": 140,
   "id": "fc418ca4",
   "metadata": {},
   "outputs": [],
   "source": [
    "def curconv(c,a):\n",
    "    infile=open('currencies.txt')\n",
    "    x=infile.read()\n",
    "    y=x.splitlines()\n",
    "    infile.close()\n",
    "    return y\n",
    "    for i in y:\n",
    "        if c in i:\n",
    "            u=a*i\n",
    "    return u\n",
    "        \n",
    "    \n",
    "    "
   ]
  },
  {
   "cell_type": "code",
   "execution_count": 141,
   "id": "b90a947e",
   "metadata": {},
   "outputs": [
    {
     "data": {
      "text/plain": [
       "['AUD\\t1.0345157\\tAustralian Dollar',\n",
       " 'CHF\\t1.0237414\\tSwiss Franc',\n",
       " 'CNY\\t0.1550176\\tChinese Yuan',\n",
       " 'DKK\\t0.1651442\\tDanish Krone',\n",
       " 'EUR\\t1.2296544\\tEuro',\n",
       " 'GBP\\t1.5550989\\tBritish Pound',\n",
       " 'HKD\\t0.1270207\\tHong Kong Dollar',\n",
       " 'INR\\t0.0177643\\tIndian Rupee',\n",
       " 'JPY\\t0.01241401\\tJapanese Yen',\n",
       " 'MXN\\t0.0751848\\tMexican Peso',\n",
       " 'MYR\\t0.3145411\\tMalaysian Ringgit',\n",
       " 'NOK\\t0.1677063\\tNorwegian Krone',\n",
       " 'NZD\\t0.8003591\\tNew Zealand Dollar',\n",
       " 'PHP\\t0.0233234\\tPhilippine Peso',\n",
       " 'SEK\\t0.148269\\tSwedish Krona',\n",
       " 'SGD\\t0.788871\\tSingapore Dollar',\n",
       " 'THB\\t0.0313789\\tThai Baht']"
      ]
     },
     "execution_count": 141,
     "metadata": {},
     "output_type": "execute_result"
    }
   ],
   "source": [
    "curconv('EUR',100)"
   ]
  },
  {
   "cell_type": "markdown",
   "id": "d993bf72",
   "metadata": {},
   "source": [
    "Question 9:"
   ]
  },
  {
   "cell_type": "code",
   "execution_count": 6,
   "id": "817e8edb",
   "metadata": {},
   "outputs": [
    {
     "ename": "TypeError",
     "evalue": "unsupported operand type(s) for +: 'int' and 'str'",
     "output_type": "error",
     "traceback": [
      "\u001b[1;31m---------------------------------------------------------------------------\u001b[0m",
      "\u001b[1;31mTypeError\u001b[0m                                 Traceback (most recent call last)",
      "Input \u001b[1;32mIn [6]\u001b[0m, in \u001b[0;36m<cell line: 1>\u001b[1;34m()\u001b[0m\n\u001b[1;32m----> 1\u001b[0m \u001b[38;5;241;43m6\u001b[39;49m\u001b[38;5;241;43m+\u001b[39;49m\u001b[38;5;124;43m'\u001b[39;49m\u001b[38;5;124;43ma\u001b[39;49m\u001b[38;5;124;43m'\u001b[39;49m\n",
      "\u001b[1;31mTypeError\u001b[0m: unsupported operand type(s) for +: 'int' and 'str'"
     ]
    }
   ],
   "source": [
    "6+'a'\n",
    "#TypeError"
   ]
  },
  {
   "cell_type": "code",
   "execution_count": 7,
   "id": "938b9892",
   "metadata": {},
   "outputs": [
    {
     "ename": "IndexError",
     "evalue": "list index out of range",
     "output_type": "error",
     "traceback": [
      "\u001b[1;31m---------------------------------------------------------------------------\u001b[0m",
      "\u001b[1;31mIndexError\u001b[0m                                Traceback (most recent call last)",
      "Input \u001b[1;32mIn [7]\u001b[0m, in \u001b[0;36m<cell line: 2>\u001b[1;34m()\u001b[0m\n\u001b[0;32m      1\u001b[0m lst \u001b[38;5;241m=\u001b[39m [\u001b[38;5;241m1\u001b[39m,\u001b[38;5;241m2\u001b[39m,\u001b[38;5;241m3\u001b[39m,\u001b[38;5;241m4\u001b[39m,\u001b[38;5;241m5\u001b[39m,\u001b[38;5;241m6\u001b[39m,\u001b[38;5;241m7\u001b[39m,\u001b[38;5;241m8\u001b[39m,\u001b[38;5;241m9\u001b[39m,\u001b[38;5;241m10\u001b[39m]\n\u001b[1;32m----> 2\u001b[0m \u001b[38;5;28mprint\u001b[39m(\u001b[43mlst\u001b[49m\u001b[43m[\u001b[49m\u001b[38;5;241;43m12\u001b[39;49m\u001b[43m]\u001b[49m)\n",
      "\u001b[1;31mIndexError\u001b[0m: list index out of range"
     ]
    }
   ],
   "source": [
    "lst = [1,2,3,4,5,6,7,8,9,10]\n",
    "print(lst[12])\n",
    "#IndexError "
   ]
  },
  {
   "cell_type": "code",
   "execution_count": 8,
   "id": "b340c02a",
   "metadata": {},
   "outputs": [
    {
     "ename": "ValueError",
     "evalue": "math domain error",
     "output_type": "error",
     "traceback": [
      "\u001b[1;31m---------------------------------------------------------------------------\u001b[0m",
      "\u001b[1;31mValueError\u001b[0m                                Traceback (most recent call last)",
      "Input \u001b[1;32mIn [8]\u001b[0m, in \u001b[0;36m<cell line: 2>\u001b[1;34m()\u001b[0m\n\u001b[0;32m      1\u001b[0m \u001b[38;5;28;01mimport\u001b[39;00m \u001b[38;5;21;01mmath\u001b[39;00m\n\u001b[1;32m----> 2\u001b[0m a\u001b[38;5;241m=\u001b[39m \u001b[43mmath\u001b[49m\u001b[38;5;241;43m.\u001b[39;49m\u001b[43msqrt\u001b[49m\u001b[43m(\u001b[49m\u001b[38;5;241;43m-\u001b[39;49m\u001b[38;5;241;43m1\u001b[39;49m\u001b[43m)\u001b[49m\n\u001b[0;32m      3\u001b[0m \u001b[38;5;28mprint\u001b[39m(a)\n",
      "\u001b[1;31mValueError\u001b[0m: math domain error"
     ]
    }
   ],
   "source": [
    "import math\n",
    "a= math.sqrt(-1)\n",
    "print(a)\n",
    "#ValueError"
   ]
  },
  {
   "cell_type": "code",
   "execution_count": 9,
   "id": "d65802da",
   "metadata": {},
   "outputs": [
    {
     "ename": "NameError",
     "evalue": "name 'x' is not defined",
     "output_type": "error",
     "traceback": [
      "\u001b[1;31m---------------------------------------------------------------------------\u001b[0m",
      "\u001b[1;31mNameError\u001b[0m                                 Traceback (most recent call last)",
      "Input \u001b[1;32mIn [9]\u001b[0m, in \u001b[0;36m<cell line: 1>\u001b[1;34m()\u001b[0m\n\u001b[1;32m----> 1\u001b[0m \u001b[38;5;28mprint\u001b[39m(\u001b[43mx\u001b[49m)\n",
      "\u001b[1;31mNameError\u001b[0m: name 'x' is not defined"
     ]
    }
   ],
   "source": [
    "print(x)\n",
    "#NameError"
   ]
  },
  {
   "cell_type": "code",
   "execution_count": 10,
   "id": "d88dc144",
   "metadata": {},
   "outputs": [
    {
     "ename": "FileNotFoundError",
     "evalue": "[Errno 2] No such file or directory: 'bloodtype.txt'",
     "output_type": "error",
     "traceback": [
      "\u001b[1;31m---------------------------------------------------------------------------\u001b[0m",
      "\u001b[1;31mFileNotFoundError\u001b[0m                         Traceback (most recent call last)",
      "Input \u001b[1;32mIn [10]\u001b[0m, in \u001b[0;36m<cell line: 1>\u001b[1;34m()\u001b[0m\n\u001b[1;32m----> 1\u001b[0m infile \u001b[38;5;241m=\u001b[39m \u001b[38;5;28;43mopen\u001b[39;49m\u001b[43m(\u001b[49m\u001b[38;5;124;43m'\u001b[39;49m\u001b[38;5;124;43mbloodtype.txt\u001b[39;49m\u001b[38;5;124;43m'\u001b[39;49m\u001b[43m)\u001b[49m\n",
      "\u001b[1;31mFileNotFoundError\u001b[0m: [Errno 2] No such file or directory: 'bloodtype.txt'"
     ]
    }
   ],
   "source": [
    "infile = open('bloodtype.txt')\n",
    "#FileNotFoundError"
   ]
  },
  {
   "cell_type": "markdown",
   "id": "b67a41a3",
   "metadata": {},
   "source": [
    "Question 10:"
   ]
  },
  {
   "cell_type": "code",
   "execution_count": 62,
   "id": "293070f4",
   "metadata": {},
   "outputs": [],
   "source": [
    "def frequencies(itemList):\n",
    "    counters = {}\n",
    "    for item in itemList:\n",
    "        if item.isalpha()is True:\n",
    "            if item in counters: \n",
    "                counters[item] += 1\n",
    "            else: \n",
    "                counters[item] = 1\n",
    "    return counters.values()\n"
   ]
  },
  {
   "cell_type": "code",
   "execution_count": 64,
   "id": "2d361588",
   "metadata": {},
   "outputs": [
    {
     "data": {
      "text/plain": [
       "dict_values([1, 2, 1, 1])"
      ]
     },
     "execution_count": 64,
     "metadata": {},
     "output_type": "execute_result"
    }
   ],
   "source": [
    "frequencies('apple')"
   ]
  },
  {
   "cell_type": "code",
   "execution_count": null,
   "id": "a254c276",
   "metadata": {},
   "outputs": [],
   "source": []
  }
 ],
 "metadata": {
  "kernelspec": {
   "display_name": "Python 3 (ipykernel)",
   "language": "python",
   "name": "python3"
  },
  "language_info": {
   "codemirror_mode": {
    "name": "ipython",
    "version": 3
   },
   "file_extension": ".py",
   "mimetype": "text/x-python",
   "name": "python",
   "nbconvert_exporter": "python",
   "pygments_lexer": "ipython3",
   "version": "3.9.12"
  }
 },
 "nbformat": 4,
 "nbformat_minor": 5
}
