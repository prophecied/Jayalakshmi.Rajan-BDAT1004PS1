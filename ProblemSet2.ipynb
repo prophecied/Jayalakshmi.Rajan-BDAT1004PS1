{
 "cells": [
  {
   "cell_type": "markdown",
   "id": "00b70df9",
   "metadata": {},
   "source": [
    "Question 1:"
   ]
  },
  {
   "cell_type": "code",
   "execution_count": 4,
   "id": "9e27aae5",
   "metadata": {},
   "outputs": [],
   "source": [
    "a = 0          #global scope\n",
    "def b():\n",
    " global a      #all references to a in b() are to the global a\n",
    " a = c(a)      # here a is global\n",
    "def c(a):\n",
    " return a + 2"
   ]
  },
  {
   "cell_type": "code",
   "execution_count": 20,
   "id": "3ae1d209",
   "metadata": {},
   "outputs": [],
   "source": [
    "b()"
   ]
  },
  {
   "cell_type": "code",
   "execution_count": 14,
   "id": "66ab71df",
   "metadata": {},
   "outputs": [],
   "source": [
    "b()"
   ]
  },
  {
   "cell_type": "code",
   "execution_count": 15,
   "id": "605714fc",
   "metadata": {},
   "outputs": [],
   "source": [
    "b()"
   ]
  },
  {
   "cell_type": "code",
   "execution_count": 5,
   "id": "94c5651a",
   "metadata": {},
   "outputs": [
    {
     "data": {
      "text/plain": [
       "0"
      ]
     },
     "execution_count": 5,
     "metadata": {},
     "output_type": "execute_result"
    }
   ],
   "source": [
    "a #here value given at the global scope is returned"
   ]
  },
  {
   "cell_type": "markdown",
   "id": "f868dd09",
   "metadata": {},
   "source": [
    "Question 2:"
   ]
  },
  {
   "cell_type": "code",
   "execution_count": 16,
   "id": "bcc76542",
   "metadata": {},
   "outputs": [],
   "source": [
    "def file_length(file_name):\n",
    "    try:\n",
    "        file = open(file_name)\n",
    "        contents = file.read()\n",
    "        file.close()\n",
    "        print(len(contents))\n",
    "    except:\n",
    "        print('File',file_name,'could not be found')"
   ]
  },
  {
   "cell_type": "code",
   "execution_count": 3,
   "id": "9dac3417",
   "metadata": {},
   "outputs": [
    {
     "name": "stdout",
     "output_type": "stream",
     "text": [
      "File idterm.py could not be found\n"
     ]
    }
   ],
   "source": [
    "file_length('idterm.py')"
   ]
  },
  {
   "cell_type": "markdown",
   "id": "fed5c434",
   "metadata": {},
   "source": [
    "Question 3:"
   ]
  },
  {
   "cell_type": "code",
   "execution_count": 211,
   "id": "b56bfa91",
   "metadata": {},
   "outputs": [],
   "source": [
    "class Marsupial():\n",
    "    def _init_(self):\n",
    "        self.pouch = []\n",
    "    def put_in_pouch(self,item):\n",
    "        return self.pouch.append(item)\n",
    "    def pouch_contents(self):\n",
    "        return self.pouch\n",
    "class Kangaroo(Marsupial):\n",
    "    def _init_(self,x,y): \n",
    "        super()._init_(x,y)\n",
    "        self.dx = 0 \n",
    "        self.dy = 0\n",
    "    def jump(self,x,y):\n",
    "        self.dx+= x\n",
    "        self.dy+=y\n",
    "    def _str_(self):\n",
    "        return('I am a kangaroo loacated at coordinates({},{})'.format(self.dx,self.dy))\n",
    "        \n"
   ]
  },
  {
   "cell_type": "code",
   "execution_count": 212,
   "id": "3fdb163b",
   "metadata": {},
   "outputs": [
    {
     "ename": "AttributeError",
     "evalue": "'Kangaroo' object has no attribute 'pouch'",
     "output_type": "error",
     "traceback": [
      "\u001b[1;31m---------------------------------------------------------------------------\u001b[0m",
      "\u001b[1;31mAttributeError\u001b[0m                            Traceback (most recent call last)",
      "Input \u001b[1;32mIn [212]\u001b[0m, in \u001b[0;36m<cell line: 2>\u001b[1;34m()\u001b[0m\n\u001b[0;32m      1\u001b[0m k \u001b[38;5;241m=\u001b[39m Kangaroo()\n\u001b[1;32m----> 2\u001b[0m \u001b[43mk\u001b[49m\u001b[38;5;241;43m.\u001b[39;49m\u001b[43mput_in_pouch\u001b[49m\u001b[43m(\u001b[49m\u001b[38;5;124;43m'\u001b[39;49m\u001b[38;5;124;43mdoll\u001b[39;49m\u001b[38;5;124;43m'\u001b[39;49m\u001b[43m)\u001b[49m\n\u001b[0;32m      3\u001b[0m k\u001b[38;5;241m.\u001b[39mput_in_pouch(\u001b[38;5;124m'\u001b[39m\u001b[38;5;124mfiretruck\u001b[39m\u001b[38;5;124m'\u001b[39m)\n\u001b[0;32m      4\u001b[0m k\u001b[38;5;241m.\u001b[39mput_in_pouch(\u001b[38;5;124m'\u001b[39m\u001b[38;5;124mkitten\u001b[39m\u001b[38;5;124m'\u001b[39m)\n",
      "Input \u001b[1;32mIn [211]\u001b[0m, in \u001b[0;36mMarsupial.put_in_pouch\u001b[1;34m(self, item)\u001b[0m\n\u001b[0;32m      4\u001b[0m \u001b[38;5;28;01mdef\u001b[39;00m \u001b[38;5;21mput_in_pouch\u001b[39m(\u001b[38;5;28mself\u001b[39m,item):\n\u001b[1;32m----> 5\u001b[0m     \u001b[38;5;28;01mreturn\u001b[39;00m \u001b[38;5;28;43mself\u001b[39;49m\u001b[38;5;241;43m.\u001b[39;49m\u001b[43mpouch\u001b[49m\u001b[38;5;241m.\u001b[39mappend(item)\n",
      "\u001b[1;31mAttributeError\u001b[0m: 'Kangaroo' object has no attribute 'pouch'"
     ]
    }
   ],
   "source": [
    "k = Kangaroo()\n",
    "k.put_in_pouch('doll')\n",
    "k.put_in_pouch('firetruck')\n",
    "k.put_in_pouch('kitten')\n",
    "k.pouch_contents()\n",
    "print(\"contents in the list are\")\n",
    "print(k.pouch_contents)  \n",
    "k.jump(1,0)\n",
    "k.jump(1,0)\n",
    "k.jump(1,0)\n",
    "print(k)\n"
   ]
  },
  {
   "cell_type": "markdown",
   "id": "2ff4fba3",
   "metadata": {},
   "source": [
    "Question 4:"
   ]
  },
  {
   "cell_type": "code",
   "execution_count": 140,
   "id": "1b475ec8",
   "metadata": {},
   "outputs": [],
   "source": [
    "def collatz(x):\n",
    "    if(x==1):\n",
    "        return x\n",
    "    elif(x%2==0):\n",
    "        x=int(x/2)\n",
    "        print(x) \n",
    "        collatz(x)\n",
    "    else:\n",
    "        x=(3*x)+1\n",
    "        print(x)\n",
    "        collatz(x)   "
   ]
  },
  {
   "cell_type": "code",
   "execution_count": 141,
   "id": "dfbad1e6",
   "metadata": {},
   "outputs": [
    {
     "name": "stdout",
     "output_type": "stream",
     "text": [
      "5\n",
      "16\n",
      "8\n",
      "4\n",
      "2\n",
      "1\n"
     ]
    }
   ],
   "source": [
    "collatz(10)\n"
   ]
  },
  {
   "cell_type": "markdown",
   "id": "2c8eb2ba",
   "metadata": {},
   "source": [
    "Question 5:"
   ]
  },
  {
   "cell_type": "code",
   "execution_count": 181,
   "id": "10a88fae",
   "metadata": {},
   "outputs": [],
   "source": [
    "def binary(n):\n",
    "    if n>1:\n",
    "        binary(n//2)\n",
    "    print(n%2, end=\"\")   \n",
    "        "
   ]
  },
  {
   "cell_type": "code",
   "execution_count": 183,
   "id": "f62d7295",
   "metadata": {},
   "outputs": [
    {
     "name": "stdout",
     "output_type": "stream",
     "text": [
      "0"
     ]
    }
   ],
   "source": [
    "binary(0)"
   ]
  },
  {
   "cell_type": "code",
   "execution_count": 184,
   "id": "f01616d1",
   "metadata": {},
   "outputs": [
    {
     "name": "stdout",
     "output_type": "stream",
     "text": [
      "1"
     ]
    }
   ],
   "source": [
    "binary(1)"
   ]
  },
  {
   "cell_type": "code",
   "execution_count": 185,
   "id": "c8db4a84",
   "metadata": {},
   "outputs": [
    {
     "name": "stdout",
     "output_type": "stream",
     "text": [
      "11"
     ]
    }
   ],
   "source": [
    "binary(3)"
   ]
  },
  {
   "cell_type": "code",
   "execution_count": 186,
   "id": "4c457b06",
   "metadata": {},
   "outputs": [
    {
     "name": "stdout",
     "output_type": "stream",
     "text": [
      "1001"
     ]
    }
   ],
   "source": [
    "binary(9)"
   ]
  },
  {
   "cell_type": "markdown",
   "id": "793a4d7c",
   "metadata": {},
   "source": [
    "Question 6:"
   ]
  },
  {
   "cell_type": "code",
   "execution_count": 210,
   "id": "0427ff95",
   "metadata": {},
   "outputs": [
    {
     "ename": "AttributeError",
     "evalue": "'HeadingParser' object has no attribute 'flag'",
     "output_type": "error",
     "traceback": [
      "\u001b[1;31m---------------------------------------------------------------------------\u001b[0m",
      "\u001b[1;31mAttributeError\u001b[0m                            Traceback (most recent call last)",
      "Input \u001b[1;32mIn [210]\u001b[0m, in \u001b[0;36m<cell line: 19>\u001b[1;34m()\u001b[0m\n\u001b[0;32m     17\u001b[0m infile\u001b[38;5;241m.\u001b[39mclose()\n\u001b[0;32m     18\u001b[0m hp \u001b[38;5;241m=\u001b[39m HeadingParser()\n\u001b[1;32m---> 19\u001b[0m \u001b[43mhp\u001b[49m\u001b[38;5;241;43m.\u001b[39;49m\u001b[43mfeed\u001b[49m\u001b[43m(\u001b[49m\u001b[43mcontent\u001b[49m\u001b[43m)\u001b[49m\n",
      "File \u001b[1;32m~\\anaconda3\\lib\\html\\parser.py:110\u001b[0m, in \u001b[0;36mHTMLParser.feed\u001b[1;34m(self, data)\u001b[0m\n\u001b[0;32m    104\u001b[0m \u001b[38;5;124mr\u001b[39m\u001b[38;5;124;03m\"\"\"Feed data to the parser.\u001b[39;00m\n\u001b[0;32m    105\u001b[0m \n\u001b[0;32m    106\u001b[0m \u001b[38;5;124;03mCall this as often as you want, with as little or as much text\u001b[39;00m\n\u001b[0;32m    107\u001b[0m \u001b[38;5;124;03mas you want (may include '\\n').\u001b[39;00m\n\u001b[0;32m    108\u001b[0m \u001b[38;5;124;03m\"\"\"\u001b[39;00m\n\u001b[0;32m    109\u001b[0m \u001b[38;5;28mself\u001b[39m\u001b[38;5;241m.\u001b[39mrawdata \u001b[38;5;241m=\u001b[39m \u001b[38;5;28mself\u001b[39m\u001b[38;5;241m.\u001b[39mrawdata \u001b[38;5;241m+\u001b[39m data\n\u001b[1;32m--> 110\u001b[0m \u001b[38;5;28;43mself\u001b[39;49m\u001b[38;5;241;43m.\u001b[39;49m\u001b[43mgoahead\u001b[49m\u001b[43m(\u001b[49m\u001b[38;5;241;43m0\u001b[39;49m\u001b[43m)\u001b[49m\n",
      "File \u001b[1;32m~\\anaconda3\\lib\\html\\parser.py:162\u001b[0m, in \u001b[0;36mHTMLParser.goahead\u001b[1;34m(self, end)\u001b[0m\n\u001b[0;32m    160\u001b[0m \u001b[38;5;28;01mif\u001b[39;00m i \u001b[38;5;241m<\u001b[39m j:\n\u001b[0;32m    161\u001b[0m     \u001b[38;5;28;01mif\u001b[39;00m \u001b[38;5;28mself\u001b[39m\u001b[38;5;241m.\u001b[39mconvert_charrefs \u001b[38;5;129;01mand\u001b[39;00m \u001b[38;5;129;01mnot\u001b[39;00m \u001b[38;5;28mself\u001b[39m\u001b[38;5;241m.\u001b[39mcdata_elem:\n\u001b[1;32m--> 162\u001b[0m         \u001b[38;5;28;43mself\u001b[39;49m\u001b[38;5;241;43m.\u001b[39;49m\u001b[43mhandle_data\u001b[49m\u001b[43m(\u001b[49m\u001b[43munescape\u001b[49m\u001b[43m(\u001b[49m\u001b[43mrawdata\u001b[49m\u001b[43m[\u001b[49m\u001b[43mi\u001b[49m\u001b[43m:\u001b[49m\u001b[43mj\u001b[49m\u001b[43m]\u001b[49m\u001b[43m)\u001b[49m\u001b[43m)\u001b[49m\n\u001b[0;32m    163\u001b[0m     \u001b[38;5;28;01melse\u001b[39;00m:\n\u001b[0;32m    164\u001b[0m         \u001b[38;5;28mself\u001b[39m\u001b[38;5;241m.\u001b[39mhandle_data(rawdata[i:j])\n",
      "Input \u001b[1;32mIn [210]\u001b[0m, in \u001b[0;36mHeadingParser.handle_data\u001b[1;34m(self, data)\u001b[0m\n\u001b[0;32m     11\u001b[0m \u001b[38;5;28;01mdef\u001b[39;00m \u001b[38;5;21mhandle_data\u001b[39m(\u001b[38;5;28mself\u001b[39m,data):\n\u001b[1;32m---> 12\u001b[0m     \u001b[38;5;28;01mif\u001b[39;00m \u001b[38;5;28;43mself\u001b[39;49m\u001b[38;5;241;43m.\u001b[39;49m\u001b[43mflag\u001b[49m \u001b[38;5;129;01mand\u001b[39;00m data\u001b[38;5;241m!=\u001b[39m\u001b[38;5;124m'\u001b[39m\u001b[38;5;130;01m\\n\u001b[39;00m\u001b[38;5;124m'\u001b[39m:\n\u001b[0;32m     13\u001b[0m         \u001b[38;5;28mprint\u001b[39m(\u001b[38;5;124m'\u001b[39m\u001b[38;5;132;01m{}\u001b[39;00m\u001b[38;5;132;01m{}\u001b[39;00m\u001b[38;5;124m'\u001b[39m\u001b[38;5;241m.\u001b[39mformat(\u001b[38;5;28mself\u001b[39m\u001b[38;5;241m.\u001b[39mflag\u001b[38;5;241m*\u001b[39m\u001b[38;5;124m'\u001b[39m\u001b[38;5;124m'\u001b[39m, data))\n",
      "\u001b[1;31mAttributeError\u001b[0m: 'HeadingParser' object has no attribute 'flag'"
     ]
    }
   ],
   "source": [
    "from html.parser import HTMLParser\n",
    "class HeadingParser(HTMLParser): \n",
    "    def _int_(self):\n",
    "        HTMLParser._int_(self)\n",
    "        self.flag=0\n",
    "    def handle_stattag(self,tag,attrs):\n",
    "        if tag =='h1'or tag =='h2' or tag=='h3' or tag =='h4' or tag=='h5'or tag=='h6' or tag=='h7':\n",
    "            self.flag+=1\n",
    "        else:\n",
    "            self.flag = 0\n",
    "    def handle_data(self,data):\n",
    "        if self.flag and data!='\\n':\n",
    "            print('{}{}'.format(self.flag*'', data))\n",
    "            \n",
    "infile = open('w3c.html')\n",
    "content = infile.read()\n",
    "infile.close()\n",
    "hp = HeadingParser()\n",
    "hp.feed(content)   \n",
    " \n"
   ]
  },
  {
   "cell_type": "markdown",
   "id": "2aab1184",
   "metadata": {},
   "source": [
    "Question 7:"
   ]
  },
  {
   "cell_type": "code",
   "execution_count": 199,
   "id": "3132f8b7",
   "metadata": {},
   "outputs": [
    {
     "name": "stdout",
     "output_type": "stream",
     "text": [
      "http://reed.cs.depaul.edu/lperkovic/test2.html\n",
      "https://reed.cs.depaul.edu/lperkovic/test3.html\n"
     ]
    }
   ],
   "source": [
    "from urllib.request import urlopen\n",
    "from urllib.parse import urljoin\n",
    "from html.parser import HTMLParser\n",
    "class Collector(HTMLParser):\n",
    "\n",
    "    def __init__(self, url):\n",
    "        HTMLParser.__init__(self)\n",
    "        self.url = url\n",
    "        self.links = []\n",
    "        self.text= \"\"\n",
    "    \n",
    "    def handle_starttag(self, tag, attrs):\n",
    "        if tag == 'a':\n",
    "            for attr in attrs:\n",
    "                if attr[0] == 'href':\n",
    "                    \n",
    "                    absolute = urljoin(self.url, attr[1])\n",
    "                    if absolute[:4] == 'http': \n",
    "                        self.links.append(absolute)\n",
    "                        \n",
    "    def getLinks(self):\n",
    "        return self.links\n",
    "    \n",
    "    def handle_data(self, data):\n",
    "        self.text += data\n",
    "       # print(self.text)\n",
    "    def getData(self):\n",
    "        return self.text\n",
    "    \n",
    "url = 'https://reed.cs.depaul.edu/lperkovic/test1.html'\n",
    "resource = urlopen(url)\n",
    "content = resource.read().decode()\n",
    "collector = Collector(url)\n",
    "collector.feed(content)\n",
    "for link in collector.getLinks():\n",
    "    print(link)\n"
   ]
  },
  {
   "cell_type": "markdown",
   "id": "ad5b17da",
   "metadata": {},
   "source": [
    "Question 8:"
   ]
  },
  {
   "cell_type": "code",
   "execution_count": 206,
   "id": "04943382",
   "metadata": {},
   "outputs": [
    {
     "name": "stdout",
     "output_type": "stream",
     "text": [
      "(24.8,)(28.4,)(27.9,)(27.6,)(4.2,)(8.3,)(15.7,)(10.4,)(13.6,)(20.7,)(27.7,)(22.2,)\n",
      "('Mumbai',)('London',)('Cairo',)\n",
      "('Mumbai', 'India', 'Winter', 24.8, 5.9)('Mumbai', 'India', 'Spring', 28.4, 16.2)('Mumbai', 'India', 'Summer', 27.9, 1549.4)('Mumbai', 'India', 'Fall', 27.6, 346)\n",
      "('Mumbai', 'India', 'Fall', 27.6, 346)('London', 'United Kingdom', 'Fall', 10.4, 218.5)('Cairo', 'Egypt', 'Fall', 22.2, 4.5)\n",
      "('Mumbai', 'India', 'Fall')('London', 'United Kingdom', 'Winter')('London', 'United Kingdom', 'Fall')\n",
      "('Cairo', 'Egypt')('Mumbai', 'India')\n",
      "(27.6,)\n",
      "('Fall', 569.0)('Spring', 192.29999999999998)('Summer', 1706.5)('Winter', 230.1)"
     ]
    }
   ],
   "source": [
    "import sqlite3\n",
    "conct = sqlite3.connect('test.db')\n",
    "conct.execute('''CREATE TABLE IF NOT EXISTS team_data(city text, country text, season integer, temperature integer, \n",
    "                rainfall integer);''')\n",
    "\n",
    "conct.commit()\n",
    "\n",
    "mycursor = conct.cursor()\n",
    "\n",
    "conct.execute(\"INSERT INTO team_data VALUES('Mumbai', 'India', 'Winter', 24.8, 5.9);\")\n",
    "conct.execute(\"INSERT INTO team_data VALUES('Mumbai', 'India', 'Spring', 28.4, 16.2);\")\n",
    "conct.execute(\"INSERT INTO team_data VALUES('Mumbai', 'India', 'Summer', 27.9, 1549.4);\")\n",
    "conct.execute(\"INSERT INTO team_data VALUES('Mumbai', 'India', 'Fall', 27.6, 346.0);\")\n",
    "conct.execute(\"INSERT INTO team_data VALUES('London', 'United Kingdom', 'Winter', 4.2, 207.7);\")\n",
    "conct.execute(\"INSERT INTO team_data VALUES('London', 'United Kingdom', 'Spring', 8.3, 169.6 );\")\n",
    "conct.execute(\"INSERT INTO team_data VALUES('London', 'United Kingdom', 'Summer', 15.7, 157.0);\")\n",
    "conct.execute(\"INSERT INTO team_data VALUES('London', 'United Kingdom', 'Fall', 10.4, 218.5);\")\n",
    "conct.execute(\"INSERT INTO team_data VALUES('Cairo', 'Egypt', 'Winter', 13.6, 16.5);\")\n",
    "conct.execute(\"INSERT INTO team_data VALUES('Cairo', 'Egypt', 'Spring', 20.7, 6.5);\")\n",
    "conct.execute(\"INSERT INTO team_data VALUES('Cairo', 'Egypt', 'Summer', 27.7, 0.1);\")\n",
    "conct.execute(\"INSERT INTO team_data VALUES('Cairo', 'Egypt', 'Fall', 22.2, 4.5);\")\n",
    "\n",
    "mycursor.execute(\"SELECT temperature from team_data\")\n",
    "myresult = mycursor.fetchall()\n",
    "for x in myresult:\n",
    "  print(x, end=\"\")\n",
    "\n",
    "print()\n",
    "mycursor.execute(\"SELECT DISTINCT(city) from team_data\")\n",
    "myresult = mycursor.fetchall()\n",
    "for x in myresult:\n",
    "  print(x, end=\"\")\n",
    "\n",
    "print()\n",
    "mycursor.execute(\"SELECT * from team_data where country = 'India'\")\n",
    "myresult = mycursor.fetchall()\n",
    "for x in myresult:\n",
    "  print(x, end=\"\")\n",
    "\n",
    "\n",
    "print()\n",
    "mycursor.execute(\"SELECT * from team_data where season = 'Fall'\")\n",
    "myresult = mycursor.fetchall()\n",
    "for x in myresult:\n",
    "  print(x, end=\"\")\n",
    "\n",
    "print()\n",
    "mycursor.execute(\"SELECT city,country,season from team_data where rainfall BETWEEN 200 and 400\")\n",
    "myresult = mycursor.fetchall()\n",
    "for x in myresult:\n",
    "  print(x, end=\"\")\n",
    "\n",
    "print()\n",
    "mycursor.execute(\"SELECT city,country from team_data where (season = 'Fall' and temperature > 20) Order BY temperature ASC \")\n",
    "myresult = mycursor.fetchall()\n",
    "for x in myresult:\n",
    "  print(x, end=\"\")\n",
    "\n",
    "print()\n",
    "mycursor.execute(\"SELECT sum(rainfall) from team_data where city = 'Cairo'\")\n",
    "myresult = mycursor.fetchall()\n",
    "for x in myresult:\n",
    "  print(x, end=\"\")\n",
    "\n",
    "print()\n",
    "mycursor.execute(\"SELECT season, sum(rainfall) from team_data group by season\")\n",
    "myresult = mycursor.fetchall()\n",
    "for x in myresult:\n",
    "  print(x, end=\"\")\n",
    "\n",
    "conct.close()"
   ]
  },
  {
   "cell_type": "markdown",
   "id": "9dee977a",
   "metadata": {},
   "source": [
    "Question 9:"
   ]
  },
  {
   "cell_type": "code",
   "execution_count": 207,
   "id": "f56cf483",
   "metadata": {},
   "outputs": [
    {
     "name": "stdout",
     "output_type": "stream",
     "text": [
      "['THE', 'QUICK', 'BROWN', 'FOX', 'JUMPS', 'OVER', 'THE', 'LAZY', 'DOG']\n",
      "['the', 'quick', 'brown', 'fox', 'jumps', 'over', 'the', 'lazy', 'dog']\n",
      "[3, 5, 5, 3, 5, 4, 3, 4, 3]\n",
      "[['THE', 'the', 3], ['QUICK', 'quick', 5], ['BROWN', 'brown', 5], ['FOX', 'fox', 3], ['JUMPS', 'jumps', 5], ['OVER', 'over', 4], ['THE', 'the', 3], ['LAZY', 'lazy', 4], ['DOG', 'dog', 3]]\n",
      "['The', 'quick', 'brown', 'fox', 'jumps', 'over', 'the', 'lazy', 'dog']\n"
     ]
    }
   ],
   "source": [
    "words = ['The', 'quick', 'brown', 'fox', 'jumps', 'over', 'the', 'lazy', 'dog']\n",
    "print([x.upper() for x in words])\n",
    "print([x.lower() for x in words])\n",
    "print([len(x) for x in words])\n",
    "print([[x.upper(), x.lower(), len(x)]for x in words])\n",
    "print([x for x in words if len(x) >= 3])\n"
   ]
  }
 ],
 "metadata": {
  "kernelspec": {
   "display_name": "Python 3 (ipykernel)",
   "language": "python",
   "name": "python3"
  },
  "language_info": {
   "codemirror_mode": {
    "name": "ipython",
    "version": 3
   },
   "file_extension": ".py",
   "mimetype": "text/x-python",
   "name": "python",
   "nbconvert_exporter": "python",
   "pygments_lexer": "ipython3",
   "version": "3.9.12"
  }
 },
 "nbformat": 4,
 "nbformat_minor": 5
}
